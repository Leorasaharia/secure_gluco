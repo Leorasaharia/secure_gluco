{
  "cells": [
    {
      "cell_type": "code",
      "execution_count": 1,
      "metadata": {
        "colab": {
          "base_uri": "https://localhost:8080/",
          "height": 1000
        },
        "id": "JNbHrg_TSAuL",
        "outputId": "29827eb3-32a9-4cdc-95ff-c25e0fe09a0c"
      },
      "outputs": [
        {
          "metadata": {
            "tags": null
          },
          "name": "stdout",
          "output_type": "stream",
          "text": [
            "Mounted at /content/drive\n",
            "Dataset loaded. Memory usage: 439.03567600250244 MB\n",
            "\n",
            "Using 30 most important features\n",
            "Sequence shape: (1826599, 10, 30)\n"
          ]
        },
        {
          "metadata": {
            "tags": null
          },
          "name": "stderr",
          "output_type": "stream",
          "text": [
            "/usr/local/lib/python3.11/dist-packages/torch/nn/modules/rnn.py:123: UserWarning: dropout option adds dropout after all but last recurrent layer, so non-zero dropout expects num_layers greater than 1, but got dropout=0.3 and num_layers=1\n",
            "  warnings.warn(\n",
            "Epoch 1: 100%|██████████| 2855/2855 [00:36<00:00, 78.74batch/s, acc=0.622, loss=0.0449]\n",
            "Epoch 2: 100%|██████████| 2855/2855 [00:34<00:00, 82.36batch/s, acc=0.729, loss=0.0898]\n",
            "Epoch 3: 100%|██████████| 2855/2855 [00:35<00:00, 80.26batch/s, acc=0.791, loss=0.0652]\n",
            "Epoch 4: 100%|██████████| 2855/2855 [00:34<00:00, 82.41batch/s, acc=0.837, loss=0.0332]\n",
            "Epoch 5: 100%|██████████| 2855/2855 [00:34<00:00, 82.08batch/s, acc=0.858, loss=0.0447]\n"
          ]
        },
        {
          "metadata": {
            "tags": null
          },
          "name": "stdout",
          "output_type": "stream",
          "text": [
            "Epoch 5 | Train Acc: 0.8580 | Val Acc: 0.9049 | LR: 0.001000\n"
          ]
        },
        {
          "metadata": {
            "tags": null
          },
          "name": "stderr",
          "output_type": "stream",
          "text": [
            "Epoch 6: 100%|██████████| 2855/2855 [00:34<00:00, 82.18batch/s, acc=0.872, loss=0.00387]\n",
            "Epoch 7: 100%|██████████| 2855/2855 [00:34<00:00, 82.00batch/s, acc=0.89, loss=0.0146]\n",
            "Epoch 8: 100%|██████████| 2855/2855 [00:34<00:00, 82.30batch/s, acc=0.9, loss=0.0133]\n",
            "Epoch 9: 100%|██████████| 2855/2855 [00:34<00:00, 82.82batch/s, acc=0.907, loss=0.0555]\n",
            "Epoch 10: 100%|██████████| 2855/2855 [00:34<00:00, 81.89batch/s, acc=0.911, loss=0.0142]\n"
          ]
        },
        {
          "metadata": {
            "tags": null
          },
          "name": "stdout",
          "output_type": "stream",
          "text": [
            "Epoch 10 | Train Acc: 0.9110 | Val Acc: 0.9340 | LR: 0.001000\n"
          ]
        },
        {
          "metadata": {
            "tags": null
          },
          "name": "stderr",
          "output_type": "stream",
          "text": [
            "Epoch 11: 100%|██████████| 2855/2855 [00:35<00:00, 81.31batch/s, acc=0.914, loss=0.00619]\n",
            "Epoch 12: 100%|██████████| 2855/2855 [00:34<00:00, 82.85batch/s, acc=0.916, loss=1.95]\n",
            "Epoch 13: 100%|██████████| 2855/2855 [00:34<00:00, 83.50batch/s, acc=0.918, loss=0.0229]\n",
            "Epoch 14: 100%|██████████| 2855/2855 [00:34<00:00, 83.73batch/s, acc=0.919, loss=0.567]\n",
            "Epoch 15: 100%|██████████| 2855/2855 [00:33<00:00, 84.31batch/s, acc=0.928, loss=0.0327]\n"
          ]
        },
        {
          "metadata": {
            "tags": null
          },
          "name": "stdout",
          "output_type": "stream",
          "text": [
            "Epoch 15 | Train Acc: 0.9284 | Val Acc: 0.9418 | LR: 0.000500\n"
          ]
        },
        {
          "metadata": {
            "tags": null
          },
          "name": "stderr",
          "output_type": "stream",
          "text": [
            "Epoch 16: 100%|██████████| 2855/2855 [00:33<00:00, 84.57batch/s, acc=0.929, loss=0.0241]\n",
            "Epoch 17: 100%|██████████| 2855/2855 [00:33<00:00, 84.57batch/s, acc=0.929, loss=0.00496]\n",
            "Epoch 18: 100%|██████████| 2855/2855 [00:33<00:00, 84.05batch/s, acc=0.93, loss=0.0144]\n",
            "Epoch 19: 100%|██████████| 2855/2855 [00:34<00:00, 83.84batch/s, acc=0.93, loss=0.0698]\n",
            "Epoch 20: 100%|██████████| 2855/2855 [00:33<00:00, 84.02batch/s, acc=0.931, loss=0.113]\n"
          ]
        },
        {
          "metadata": {
            "tags": null
          },
          "name": "stdout",
          "output_type": "stream",
          "text": [
            "Epoch 20 | Train Acc: 0.9306 | Val Acc: 0.9439 | LR: 0.000500\n"
          ]
        },
        {
          "output_type": "stream",
          "name": "stderr",
          "text": [
            "Epoch 21: 100%|██████████| 2855/2855 [00:33<00:00, 84.94batch/s, acc=0.93, loss=0.0108]\n",
            "Epoch 22: 100%|██████████| 2855/2855 [00:33<00:00, 84.37batch/s, acc=0.931, loss=0.00451]\n",
            "Epoch 23: 100%|██████████| 2855/2855 [00:34<00:00, 83.30batch/s, acc=0.931, loss=0.01]\n",
            "Epoch 24: 100%|██████████| 2855/2855 [00:34<00:00, 82.75batch/s, acc=0.932, loss=0.0567]\n",
            "Epoch 25: 100%|██████████| 2855/2855 [00:35<00:00, 80.48batch/s, acc=0.932, loss=0.0158]\n"
          ]
        },
        {
          "output_type": "stream",
          "name": "stdout",
          "text": [
            "Epoch 25 | Train Acc: 0.9325 | Val Acc: 0.9448 | LR: 0.000500\n"
          ]
        },
        {
          "output_type": "stream",
          "name": "stderr",
          "text": [
            "Epoch 26: 100%|██████████| 2855/2855 [00:35<00:00, 79.84batch/s, acc=0.932, loss=0.562]\n",
            "Epoch 27: 100%|██████████| 2855/2855 [00:35<00:00, 80.03batch/s, acc=0.936, loss=0.098]\n",
            "Epoch 28: 100%|██████████| 2855/2855 [00:35<00:00, 80.23batch/s, acc=0.937, loss=0.0339]\n",
            "Epoch 29: 100%|██████████| 2855/2855 [00:35<00:00, 80.39batch/s, acc=0.936, loss=0.104]\n",
            "Epoch 30: 100%|██████████| 2855/2855 [00:35<00:00, 81.07batch/s, acc=0.937, loss=0.0343]\n"
          ]
        },
        {
          "output_type": "stream",
          "name": "stdout",
          "text": [
            "Epoch 30 | Train Acc: 0.9371 | Val Acc: 0.9465 | LR: 0.000250\n"
          ]
        },
        {
          "output_type": "stream",
          "name": "stderr",
          "text": [
            "Epoch 31: 100%|██████████| 2855/2855 [00:35<00:00, 80.85batch/s, acc=0.938, loss=0.0807]\n",
            "Epoch 32: 100%|██████████| 2855/2855 [00:35<00:00, 80.74batch/s, acc=0.937, loss=0.00794]\n",
            "Epoch 33: 100%|██████████| 2855/2855 [00:35<00:00, 80.91batch/s, acc=0.937, loss=0.113]\n",
            "Epoch 34: 100%|██████████| 2855/2855 [00:35<00:00, 80.64batch/s, acc=0.938, loss=0.0117]\n",
            "Epoch 35: 100%|██████████| 2855/2855 [00:35<00:00, 80.39batch/s, acc=0.938, loss=0.0708]\n"
          ]
        },
        {
          "output_type": "stream",
          "name": "stdout",
          "text": [
            "Epoch 35 | Train Acc: 0.9379 | Val Acc: 0.9502 | LR: 0.000250\n"
          ]
        },
        {
          "output_type": "stream",
          "name": "stderr",
          "text": [
            "Epoch 36: 100%|██████████| 2855/2855 [00:35<00:00, 81.33batch/s, acc=0.938, loss=0.0192]\n",
            "Epoch 37: 100%|██████████| 2855/2855 [00:34<00:00, 81.82batch/s, acc=0.938, loss=0.00881]\n",
            "Epoch 38: 100%|██████████| 2855/2855 [00:34<00:00, 81.74batch/s, acc=0.938, loss=0.00854]\n",
            "Epoch 39: 100%|██████████| 2855/2855 [00:34<00:00, 81.85batch/s, acc=0.941, loss=0.00558]\n",
            "Epoch 40: 100%|██████████| 2855/2855 [00:34<00:00, 81.93batch/s, acc=0.941, loss=0.00359]\n"
          ]
        },
        {
          "output_type": "stream",
          "name": "stdout",
          "text": [
            "Epoch 40 | Train Acc: 0.9409 | Val Acc: 0.9519 | LR: 0.000125\n"
          ]
        },
        {
          "output_type": "stream",
          "name": "stderr",
          "text": [
            "Epoch 41: 100%|██████████| 2855/2855 [00:34<00:00, 82.50batch/s, acc=0.941, loss=0.0302]\n"
          ]
        },
        {
          "output_type": "stream",
          "name": "stdout",
          "text": [
            "Early stopping at epoch 41\n",
            "\n",
            "🏆 Best Validation Accuracy: 0.9524\n"
          ]
        },
        {
          "output_type": "display_data",
          "data": {
            "text/plain": [
              "<Figure size 640x480 with 1 Axes>"
            ],
            "image/png": "[encoded data removed]"
          },
          "metadata": {}
        },
        {
          "output_type": "stream",
          "name": "stdout",
          "text": [
            "Model saved to: /content/drive/MyDrive/models/best_ann_lstm_model_final.pth\n",
            "\n",
            "📊 ANN-LSTM Classification Report:\n",
            "                         precision    recall  f1-score   support\n",
            "\n",
            "           ARP_Spoofing       0.61      0.99      0.76      3239\n",
            "                 Benign       1.00      0.94      0.97     38607\n",
            "MQTT-DDoS-Connect_Flood       1.00      1.00      1.00     34458\n",
            "MQTT-DDoS-Publish_Flood       1.00      1.00      1.00      5467\n",
            " MQTT-DoS-Connect_Flood       0.98      1.00      0.99      2511\n",
            " MQTT-DoS-Publish_Flood       1.00      1.00      1.00      8823\n",
            "    MQTT-Malformed_Data       0.82      0.99      0.90      1005\n",
            "          Recon-OS_Scan       0.51      0.92      0.65      3361\n",
            "       Recon-Ping_Sweep       0.92      0.97      0.95       154\n",
            "        Recon-Port_Scan       0.98      0.81      0.88     16950\n",
            "          Recon-VulScan       0.38      0.78      0.51       421\n",
            "       TCP_IP-DDoS-ICMP       1.00      1.00      1.00     38758\n",
            "        TCP_IP-DDoS-SYN       1.00      1.00      1.00     40043\n",
            "        TCP_IP-DDoS-TCP       0.99      0.95      0.97     40286\n",
            "        TCP_IP-DDoS-UDP       0.87      0.91      0.89     41226\n",
            "        TCP_IP-DoS-ICMP       0.99      1.00      1.00     20972\n",
            "         TCP_IP-DoS-SYN       1.00      1.00      1.00     22310\n",
            "         TCP_IP-DoS-TCP       0.89      0.98      0.93     19201\n",
            "         TCP_IP-DoS-UDP       0.86      0.80      0.83     27528\n",
            "\n",
            "               accuracy                           0.95    365320\n",
            "              macro avg       0.88      0.95      0.91    365320\n",
            "           weighted avg       0.96      0.95      0.95    365320\n",
            "\n",
            "\n",
            "📈 Average Prediction Confidence: 0.8863\n"
          ]
        }
      ],
      "source": [
        "# Mount Google Drive\n",
        "from google.colab import drive\n",
        "drive.mount('/content/drive')\n",
        "\n",
        "import pandas as pd\n",
        "import numpy as np\n",
        "import torch\n",
        "import torch.nn as nn\n",
        "import torch.optim as optim\n",
        "from torch.utils.data import TensorDataset, DataLoader\n",
        "from sklearn.feature_selection import VarianceThreshold\n",
        "from sklearn.model_selection import train_test_split\n",
        "from sklearn.preprocessing import StandardScaler, LabelEncoder\n",
        "from sklearn.utils.class_weight import compute_class_weight\n",
        "from sklearn.metrics import classification_report\n",
        "from tqdm import tqdm\n",
        "import matplotlib.pyplot as plt\n",
        "import gc\n",
        "\n",
        "# --- 1. Optimized Data Loading ---\n",
        "def load_data(filepath):\n",
        "    chunks = []\n",
        "    for chunk in pd.read_csv(filepath, chunksize=10000):\n",
        "        numeric_cols = chunk.select_dtypes(include=np.number).columns\n",
        "        chunk[numeric_cols] = chunk[numeric_cols].astype(np.float32)\n",
        "        if 'Label' in chunk.columns:\n",
        "            chunk['Label'] = chunk['Label'].astype('category')\n",
        "        chunks.append(chunk)\n",
        "    return pd.concat(chunks, axis=0)\n",
        "\n",
        "filepath = '/content/drive/MyDrive/DL summer intern project/merged_dataset_end.csv'\n",
        "\n",
        "try:\n",
        "    df = load_data(filepath)\n",
        "    print(\"Dataset loaded. Memory usage:\", df.memory_usage(deep=True).sum()/1024**2, \"MB\")\n",
        "except Exception as e:\n",
        "    print(\"Error loading dataset:\", e)\n",
        "    raise\n",
        "\n",
        "# --- 2. Enhanced Feature Selection ---\n",
        "target = 'Label'\n",
        "numeric_features = df.select_dtypes(include=np.number).columns.tolist()\n",
        "if target in numeric_features:\n",
        "    numeric_features.remove(target)\n",
        "\n",
        "selector = VarianceThreshold(0.01)\n",
        "X = selector.fit_transform(df[numeric_features])\n",
        "features = [numeric_features[i] for i in selector.get_support(indices=True)]\n",
        "print(f\"\\nUsing {len(features)} most important features\")\n",
        "\n",
        "# --- 3. LSTM-Specific Data Preprocessing ---\n",
        "scaler = StandardScaler()\n",
        "X = scaler.fit_transform(X).astype(np.float32)\n",
        "\n",
        "le = LabelEncoder()\n",
        "y = le.fit_transform(df[target])\n",
        "\n",
        "del df\n",
        "gc.collect()\n",
        "\n",
        "# --- 4. Sequence Creation for LSTM ---\n",
        "def create_sequences(data, labels, sequence_length=10):\n",
        "    sequences = []\n",
        "    seq_labels = []\n",
        "    for i in range(len(data) - sequence_length + 1):\n",
        "        seq = data[i:i + sequence_length]\n",
        "        sequences.append(seq)\n",
        "        seq_labels.append(labels[i + sequence_length - 1])\n",
        "    return np.array(sequences), np.array(seq_labels)\n",
        "\n",
        "sequence_length = 10\n",
        "X_seq, y_seq = create_sequences(X, y, sequence_length)\n",
        "print(f\"Sequence shape: {X_seq.shape}\")\n",
        "\n",
        "# --- 5. Train-Test Split ---\n",
        "X_train, X_test, y_train, y_test = train_test_split(\n",
        "    X_seq, y_seq, test_size=0.2, random_state=42, shuffle=True)\n",
        "\n",
        "batch_size = 512\n",
        "train_dataset = TensorDataset(torch.tensor(X_train, dtype=torch.float32), torch.tensor(y_train, dtype=torch.long))\n",
        "test_dataset = TensorDataset(torch.tensor(X_test, dtype=torch.float32), torch.tensor(y_test, dtype=torch.long))\n",
        "\n",
        "train_loader = DataLoader(train_dataset, batch_size=batch_size, shuffle=True)\n",
        "test_loader = DataLoader(test_dataset, batch_size=batch_size)\n",
        "\n",
        "# --- 6. ANN-LSTM Hybrid Model Architecture ---\n",
        "class ANN_LSTM_IDS(nn.Module):\n",
        "    def __init__(self, input_size, num_classes, hidden_dim=64, num_layers=1):\n",
        "        super(ANN_LSTM_IDS, self).__init__()\n",
        "\n",
        "        self.feature_extractor = nn.Sequential(\n",
        "            nn.Linear(input_size, 128),\n",
        "            nn.ReLU(),\n",
        "            nn.Dropout(0.4),\n",
        "            nn.Linear(128, 64),\n",
        "            nn.ReLU(),\n",
        "        )\n",
        "\n",
        "        self.lstm = nn.LSTM(\n",
        "            input_size=64,\n",
        "            hidden_size=hidden_dim,\n",
        "            num_layers=num_layers,\n",
        "            batch_first=True,\n",
        "            dropout=0.3,\n",
        "            bidirectional=True\n",
        "        )\n",
        "\n",
        "        self.attention = nn.MultiheadAttention(\n",
        "            embed_dim=hidden_dim * 2,\n",
        "            num_heads=8,\n",
        "            dropout=0.1,\n",
        "            batch_first=True\n",
        "        )\n",
        "\n",
        "        self.dropout_post_lstm = nn.Dropout(0.3)\n",
        "\n",
        "        self.classifier = nn.Sequential(\n",
        "            nn.Linear(hidden_dim * 2, 64),\n",
        "            nn.ReLU(),\n",
        "            nn.Dropout(0.4),\n",
        "            nn.Linear(64, num_classes)\n",
        "        )\n",
        "\n",
        "    def forward(self, x):\n",
        "        batch_size, seq_len, features = x.size()\n",
        "        x_reshaped = x.view(-1, features)\n",
        "        features_extracted = self.feature_extractor(x_reshaped)\n",
        "        features_extracted = features_extracted.view(batch_size, seq_len, -1)\n",
        "        lstm_out, _ = self.lstm(features_extracted)\n",
        "        lstm_out = self.dropout_post_lstm(lstm_out)\n",
        "        attn_out, _ = self.attention(lstm_out, lstm_out, lstm_out)\n",
        "        final_features = attn_out[:, -1, :]\n",
        "        output = self.classifier(final_features)\n",
        "        return output\n",
        "\n",
        "# --- 7. Enhanced Training Setup ---\n",
        "device = torch.device('cuda' if torch.cuda.is_available() else 'cpu')\n",
        "model = ANN_LSTM_IDS(X_train.shape[2], len(le.classes_)).to(device)\n",
        "\n",
        "class_weights = compute_class_weight('balanced', classes=np.unique(y_train), y=y_train)\n",
        "\n",
        "class FocalLoss(nn.Module):\n",
        "    def __init__(self, alpha=1, gamma=2, weight=None):\n",
        "        super(FocalLoss, self).__init__()\n",
        "        self.alpha = alpha\n",
        "        self.gamma = gamma\n",
        "        self.weight = weight\n",
        "\n",
        "    def forward(self, inputs, targets):\n",
        "        ce_loss = nn.functional.cross_entropy(inputs, targets, weight=self.weight, reduction='none')\n",
        "        pt = torch.exp(-ce_loss)\n",
        "        focal_loss = self.alpha * (1 - pt) ** self.gamma * ce_loss\n",
        "        return focal_loss.mean()\n",
        "\n",
        "criterion = FocalLoss(\n",
        "    alpha=1,\n",
        "    gamma=2,\n",
        "    weight=torch.tensor(class_weights, dtype=torch.float32).to(device)\n",
        ")\n",
        "\n",
        "optimizer = optim.AdamW(model.parameters(), lr=0.001, weight_decay=0.02)\n",
        "scheduler = optim.lr_scheduler.ReduceLROnPlateau(optimizer, 'max', patience=3, factor=0.5)\n",
        "\n",
        "# --- 8. Advanced Training Loop with Accuracy Plot ---\n",
        "def train_model(epochs):\n",
        "    best_acc = 0\n",
        "    patience_counter = 0\n",
        "    train_accuracies = []\n",
        "    val_accuracies = []\n",
        "\n",
        "    for epoch in range(1, epochs + 1):\n",
        "        model.train()\n",
        "        train_loss = 0\n",
        "        train_correct = 0\n",
        "        train_total = 0\n",
        "\n",
        "        with tqdm(train_loader, unit=\"batch\", desc=f\"Epoch {epoch}\") as tepoch:\n",
        "            for batch_x, batch_y in tepoch:\n",
        "                batch_x, batch_y = batch_x.to(device), batch_y.to(device)\n",
        "                optimizer.zero_grad()\n",
        "                outputs = model(batch_x)\n",
        "                loss = criterion(outputs, batch_y)\n",
        "                loss.backward()\n",
        "                torch.nn.utils.clip_grad_norm_(model.parameters(), max_norm=1.0)\n",
        "                optimizer.step()\n",
        "\n",
        "                train_loss += loss.item()\n",
        "                _, predicted = torch.max(outputs.data, 1)\n",
        "                train_total += batch_y.size(0)\n",
        "                train_correct += (predicted == batch_y).sum().item()\n",
        "                tepoch.set_postfix(loss=loss.item(), acc=train_correct/train_total)\n",
        "\n",
        "        model.eval()\n",
        "        val_correct = 0\n",
        "        val_total = 0\n",
        "        val_loss = 0\n",
        "\n",
        "        with torch.no_grad():\n",
        "            for batch_x, batch_y in test_loader:\n",
        "                batch_x, batch_y = batch_x.to(device), batch_y.to(device)\n",
        "                outputs = model(batch_x)\n",
        "                loss = criterion(outputs, batch_y)\n",
        "                val_loss += loss.item()\n",
        "                _, predicted = torch.max(outputs.data, 1)\n",
        "                val_total += batch_y.size(0)\n",
        "                val_correct += (predicted == batch_y).sum().item()\n",
        "\n",
        "        train_acc = train_correct / train_total\n",
        "        val_acc = val_correct / val_total\n",
        "\n",
        "        train_accuracies.append(train_acc)\n",
        "        val_accuracies.append(val_acc)\n",
        "\n",
        "        scheduler.step(val_acc)\n",
        "\n",
        "        if val_acc > best_acc:\n",
        "            best_acc = val_acc\n",
        "            torch.save(model.state_dict(), 'best_ann_lstm_model.pth')\n",
        "            patience_counter = 0\n",
        "        else:\n",
        "            patience_counter += 1\n",
        "\n",
        "        if epoch % 5 == 0:\n",
        "            print(f'Epoch {epoch} | Train Acc: {train_acc:.4f} | Val Acc: {val_acc:.4f} | LR: {optimizer.param_groups[0][\"lr\"]:.6f}')\n",
        "\n",
        "        if patience_counter >= 7:\n",
        "            print(f\"Early stopping at epoch {epoch}\")\n",
        "            break\n",
        "\n",
        "    print(f\"\\n🏆 Best Validation Accuracy: {best_acc:.4f}\")\n",
        "\n",
        "    plt.plot(train_accuracies, label='Train Accuracy')\n",
        "    plt.plot(val_accuracies, label='Val Accuracy')\n",
        "    plt.title('Training vs Validation Accuracy')\n",
        "    plt.xlabel('Epoch')\n",
        "    plt.ylabel('Accuracy')\n",
        "    plt.legend()\n",
        "    plt.grid(True)\n",
        "    plt.show()\n",
        "\n",
        "# --- 9. Start Training ---\n",
        "train_model(100)\n",
        "\n",
        "# --- 10. Final Evaluation ---\n",
        "model_save_path = '/content/drive/MyDrive/models/best_ann_lstm_model_final.pth'\n",
        "torch.save(model.state_dict(), model_save_path)\n",
        "print(f'Model saved to: {model_save_path}')\n",
        "\n",
        "model.eval()\n",
        "all_preds = []\n",
        "all_targets = []\n",
        "all_probs = []\n",
        "\n",
        "with torch.no_grad():\n",
        "    for batch_x, batch_y in test_loader:\n",
        "        batch_x = batch_x.to(device)\n",
        "        outputs = model(batch_x)\n",
        "        probs = torch.softmax(outputs, dim=1)\n",
        "        _, preds = torch.max(outputs, 1)\n",
        "        all_preds.extend(preds.cpu().numpy())\n",
        "        all_targets.extend(batch_y.cpu().numpy())\n",
        "        all_probs.extend(probs.cpu().numpy())\n",
        "\n",
        "print(\"\\n📊 ANN-LSTM Classification Report:\")\n",
        "print(classification_report(all_targets, all_preds, target_names=le.classes_))\n",
        "\n",
        "confidence_scores = np.max(all_probs, axis=1)\n",
        "print(f\"\\n📈 Average Prediction Confidence: {np.mean(confidence_scores):.4f}\")\n"
      ]
    },
    {
      "cell_type": "code",
      "source": [
        "from google.colab import drive\n",
        "drive.mount('/content/drive')\n"
      ],
      "metadata": {
        "id": "U7H_iYba9Db0",
        "outputId": "0f7fc8f9-1634-4d5d-893c-a75bcdbd05f9",
        "colab": {
          "base_uri": "https://localhost:8080/"
        }
      },
      "execution_count": 4,
      "outputs": [
        {
          "output_type": "stream",
          "name": "stdout",
          "text": [
            "Mounted at /content/drive\n"
          ]
        }
      ]
    },
    {
      "cell_type": "code",
      "source": [
        "import pandas as pd\n",
        "import numpy as np\n",
        "import gc\n",
        "\n",
        "def load_data(filepath):\n",
        "    chunks = []\n",
        "    for chunk in pd.read_csv(filepath, chunksize=10000):\n",
        "        numeric_cols = chunk.select_dtypes(include=np.number).columns\n",
        "        chunk[numeric_cols] = chunk[numeric_cols].astype(np.float32)\n",
        "        if 'Label' in chunk.columns:\n",
        "            chunk['Label'] = chunk['Label'].astype('category')\n",
        "        chunks.append(chunk)\n",
        "    return pd.concat(chunks, axis=0)\n",
        "\n",
        "filepath = '/content/drive/MyDrive/DL summer intern project/merged_dataset_end.csv'\n",
        "df = load_data(filepath)\n",
        "print(\"Dataset loaded. Shape:\", df.shape)\n"
      ],
      "metadata": {
        "id": "7PoxOQGh9Qeh",
        "outputId": "f35bafdd-e2b1-4dba-9d0a-f5f5885ba97f",
        "colab": {
          "base_uri": "https://localhost:8080/"
        }
      },
      "execution_count": 2,
      "outputs": [
        {
          "output_type": "stream",
          "name": "stdout",
          "text": [
            "Dataset loaded. Shape: (1826608, 46)\n"
          ]
        }
      ]
    },
    {
      "cell_type": "code",
      "source": [
        "from sklearn.preprocessing import StandardScaler, LabelEncoder\n",
        "from sklearn.feature_selection import VarianceThreshold\n",
        "\n",
        "target = 'Label'\n",
        "numeric_features = df.select_dtypes(include=np.number).columns.tolist()\n",
        "if target in numeric_features:\n",
        "    numeric_features.remove(target)\n",
        "\n",
        "# Select low-variance features\n",
        "selector = VarianceThreshold(0.01)\n",
        "X = selector.fit_transform(df[numeric_features])\n",
        "features = [numeric_features[i] for i in selector.get_support(indices=True)]\n",
        "print(f\"Selected {len(features)} features\")\n",
        "\n",
        "# Scale the data\n",
        "scaler = StandardScaler()\n",
        "X = scaler.fit_transform(X).astype(np.float32)\n",
        "\n",
        "# Encode the labels\n",
        "le = LabelEncoder()\n",
        "y = le.fit_transform(df[target])\n",
        "\n",
        "# Optional: Clean memory\n",
        "del df\n",
        "gc.collect()\n"
      ],
      "metadata": {
        "id": "Bt1zwmAV9WKm",
        "outputId": "ba2b9769-3ad2-4e3c-ef06-214917a8a867",
        "colab": {
          "base_uri": "https://localhost:8080/"
        }
      },
      "execution_count": 3,
      "outputs": [
        {
          "output_type": "stream",
          "name": "stdout",
          "text": [
            "Selected 30 features\n"
          ]
        },
        {
          "output_type": "execute_result",
          "data": {
            "text/plain": [
              "0"
            ]
          },
          "metadata": {},
          "execution_count": 3
        }
      ]
    },
    {
      "cell_type": "code",
      "source": [
        "import joblib\n",
        "\n",
        "# Choose your preferred path\n",
        "save_path = \"/content/drive/MyDrive/models\"  # or any folder in your Drive\n",
        "\n",
        "joblib.dump(scaler, f\"{save_path}/scaler.pkl\")\n",
        "joblib.dump(le, f\"{save_path}/label_encoder.pkl\")\n",
        "\n",
        "print(\"✅ Scaler and LabelEncoder saved to Google Drive!\")\n"
      ],
      "metadata": {
        "id": "BPSw4tug9XTJ",
        "outputId": "46db994e-cccd-42bd-8922-06b760392593",
        "colab": {
          "base_uri": "https://localhost:8080/"
        }
      },
      "execution_count": 7,
      "outputs": [
        {
          "output_type": "stream",
          "name": "stdout",
          "text": [
            "✅ Scaler and LabelEncoder saved to Google Drive!\n"
          ]
        }
      ]
    },
    {
      "cell_type": "code",
      "source": [
        "import numpy as np\n",
        "import joblib\n",
        "\n",
        "# Convert the StandardScaler parameters to plain numpy arrays\n",
        "scaler.mean_ = np.array(scaler.mean_, dtype=np.float64)\n",
        "scaler.scale_ = np.array(scaler.scale_, dtype=np.float64)\n",
        "scaler.var_ = np.array(scaler.var_, dtype=np.float64)\n",
        "\n",
        "joblib.dump(scaler, \"/content/drive/MyDrive/models/scaler_clean.pkl\")\n",
        "joblib.dump(le, \"/content/drive/MyDrive/models/label_encoder_clean.pkl\")\n"
      ],
      "metadata": {
        "colab": {
          "base_uri": "https://localhost:8080/"
        },
        "id": "dpzv16_i8bQs",
        "outputId": "10817b6a-f31d-419a-9c34-debb6a8af079"
      },
      "execution_count": 8,
      "outputs": [
        {
          "output_type": "execute_result",
          "data": {
            "text/plain": [
              "['/content/drive/MyDrive/models/label_encoder_clean.pkl']"
            ]
          },
          "metadata": {},
          "execution_count": 8
        }
      ]
    },
    {
      "cell_type": "code",
      "source": [
        "from google.colab import drive\n",
        "drive.mount('/content/drive')\n",
        "\n",
        "import numpy as np\n",
        "import joblib\n",
        "from sklearn.preprocessing import StandardScaler, LabelEncoder\n",
        "\n",
        "# Create new \"clean\" scaler\n",
        "clean_scaler = StandardScaler()\n",
        "clean_scaler.mean_ = np.array(scaler.mean_, dtype=np.float64)\n",
        "clean_scaler.scale_ = np.array(scaler.scale_, dtype=np.float64)\n",
        "clean_scaler.var_ = np.array(scaler.var_, dtype=np.float64)\n",
        "clean_scaler.n_samples_seen_ = scaler.n_samples_seen_\n",
        "clean_scaler.n_features_in_ = scaler.n_features_in_\n",
        "clean_scaler.feature_names_in_ = getattr(scaler, 'feature_names_in_', None)\n",
        "\n",
        "# Create new \"clean\" label encoder\n",
        "clean_le = LabelEncoder()\n",
        "clean_le.classes_ = np.array(le.classes_, dtype=object)\n",
        "\n",
        "# Save cleaned objects\n",
        "joblib.dump(clean_scaler, \"/content/drive/MyDrive/models/scaler_clean.pkl\")\n",
        "joblib.dump(clean_le, \"/content/drive/MyDrive/models/label_encoder_clean.pkl\")\n",
        "\n",
        "print(\"✅ Cleaned scaler and label encoder saved!\")\n"
      ],
      "metadata": {
        "id": "dmgqIM3X-2vP",
        "outputId": "c68b9718-9a13-4495-b275-30c4b22d6355",
        "colab": {
          "base_uri": "https://localhost:8080/"
        }
      },
      "execution_count": 4,
      "outputs": [
        {
          "output_type": "stream",
          "name": "stdout",
          "text": [
            "Drive already mounted at /content/drive; to attempt to forcibly remount, call drive.mount(\"/content/drive\", force_remount=True).\n",
            "✅ Cleaned scaler and label encoder saved!\n"
          ]
        }
      ]
    },
    {
      "cell_type": "code",
      "source": [
        "import numpy as np\n",
        "\n",
        "# Save as raw NumPy arrays\n",
        "np.savez(\"/content/drive/MyDrive/models/scaler_data.npz\",\n",
        "         mean=scaler.mean_,\n",
        "         scale=scaler.scale_,\n",
        "         var=scaler.var_,\n",
        "         n_samples_seen=scaler.n_samples_seen_,\n",
        "         n_features_in=scaler.n_features_in_)\n",
        "\n",
        "np.save(\"/content/drive/MyDrive/models/label_classes.npy\", le.classes_)\n",
        "print(\"✅ Raw scaler and encoder data saved.\")\n"
      ],
      "metadata": {
        "id": "BEC7Cd9A_t1R",
        "outputId": "d1fcea6c-9d25-425e-f087-a01cec12d1e2",
        "colab": {
          "base_uri": "https://localhost:8080/"
        }
      },
      "execution_count": 5,
      "outputs": [
        {
          "output_type": "stream",
          "name": "stdout",
          "text": [
            "✅ Raw scaler and encoder data saved.\n"
          ]
        }
      ]
    },
    {
      "cell_type": "code",
      "source": [
        "# Save label encoder classes as plain strings\n",
        "with open(\"/content/drive/MyDrive/models/label_classes.txt\", \"w\") as f:\n",
        "    for cls in le.classes_:\n",
        "        f.write(str(cls) + \"\\n\")\n",
        "\n",
        "print(\"✅ Saved label encoder classes as plain text.\")\n"
      ],
      "metadata": {
        "id": "2ra5n6kvXTcX",
        "outputId": "024c0fb6-2fdf-4883-9f7e-37d94420681d",
        "colab": {
          "base_uri": "https://localhost:8080/"
        }
      },
      "execution_count": 6,
      "outputs": [
        {
          "output_type": "stream",
          "name": "stdout",
          "text": [
            "✅ Saved label encoder classes as plain text.\n"
          ]
        }
      ]
    },
    {
      "cell_type": "code",
      "source": [],
      "metadata": {
        "id": "N9whOj8EYzI3"
      },
      "execution_count": null,
      "outputs": []
    }
  ],
  "metadata": {
    "accelerator": "GPU",
    "colab": {
      "gpuType": "T4",
      "provenance": []
    },
    "kernelspec": {
      "display_name": "Python 3",
      "name": "python3"
    },
    "language_info": {
      "name": "python"
    }
  },
  "nbformat": 4,
  "nbformat_minor": 0
}